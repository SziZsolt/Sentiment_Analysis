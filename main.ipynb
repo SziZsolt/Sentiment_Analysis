{
  "cells": [
    {
      "cell_type": "code",
      "source": [
        "!pip install gensim\n",
        "!wget --no-check-certificate \"https://ikelte-my.sharepoint.com/:u:/g/personal/natabara_inf_elte_hu/Ee9HETZu5o1BkP8EqaKtMigB_KjvuD4vQ5WpoDOG4gLISw?e=oNbmMt&download=1\" -O cc.en.64.bin"
      ],
      "metadata": {
        "colab": {
          "base_uri": "https://localhost:8080/"
        },
        "id": "DhdWf6GnhDkE",
        "outputId": "f4324c0a-9cf2-40b7-8260-cdc68f99ada3"
      },
      "execution_count": 21,
      "outputs": [
        {
          "output_type": "stream",
          "name": "stdout",
          "text": [
            "Requirement already satisfied: gensim in /usr/local/lib/python3.11/dist-packages (4.3.3)\n",
            "Requirement already satisfied: numpy<2.0,>=1.18.5 in /usr/local/lib/python3.11/dist-packages (from gensim) (1.26.4)\n",
            "Requirement already satisfied: scipy<1.14.0,>=1.7.0 in /usr/local/lib/python3.11/dist-packages (from gensim) (1.13.1)\n",
            "Requirement already satisfied: smart-open>=1.8.1 in /usr/local/lib/python3.11/dist-packages (from gensim) (7.1.0)\n",
            "Requirement already satisfied: wrapt in /usr/local/lib/python3.11/dist-packages (from smart-open>=1.8.1->gensim) (1.17.2)\n",
            "--2025-04-03 16:43:31--  https://ikelte-my.sharepoint.com/:u:/g/personal/natabara_inf_elte_hu/Ee9HETZu5o1BkP8EqaKtMigB_KjvuD4vQ5WpoDOG4gLISw?e=oNbmMt&download=1\n",
            "Resolving ikelte-my.sharepoint.com (ikelte-my.sharepoint.com)... 13.107.136.10, 13.107.138.10, 2620:1ec:8f8::10, ...\n",
            "Connecting to ikelte-my.sharepoint.com (ikelte-my.sharepoint.com)|13.107.136.10|:443... connected.\n",
            "HTTP request sent, awaiting response... 302 Found\n",
            "Location: /personal/natabara_inf_elte_hu/Documents/cc.en.64.bin?ga=1 [following]\n",
            "--2025-04-03 16:43:31--  https://ikelte-my.sharepoint.com/personal/natabara_inf_elte_hu/Documents/cc.en.64.bin?ga=1\n",
            "Reusing existing connection to ikelte-my.sharepoint.com:443.\n",
            "HTTP request sent, awaiting response... 200 OK\n",
            "Length: 1573176312 (1.5G) [application/octet-stream]\n",
            "Saving to: ‘cc.en.64.bin’\n",
            "\n",
            "cc.en.64.bin        100%[===================>]   1.46G  75.9MB/s    in 25s     \n",
            "\n",
            "2025-04-03 16:43:57 (60.0 MB/s) - ‘cc.en.64.bin’ saved [1573176312/1573176312]\n",
            "\n"
          ]
        }
      ]
    },
    {
      "cell_type": "code",
      "execution_count": 48,
      "metadata": {
        "id": "2N3_Ihhjgswd"
      },
      "outputs": [],
      "source": [
        "import numpy as np\n",
        "import os\n",
        "from collections import Counter\n",
        "# import spacy\n",
        "import gensim\n",
        "from gensim.models.fasttext import load_facebook_model\n",
        "import torch\n",
        "import torch.nn as nn\n",
        "import torch.optim as optim\n",
        "from torch.utils.data import Dataset, DataLoader\n",
        "from sklearn.metrics import accuracy_score\n",
        "from sklearn.metrics import confusion_matrix\n",
        "import seaborn as sns\n",
        "import matplotlib.pyplot as plt"
      ]
    },
    {
      "cell_type": "code",
      "execution_count": 23,
      "metadata": {
        "colab": {
          "base_uri": "https://localhost:8080/"
        },
        "id": "f-6EUuBDgswf",
        "outputId": "99889128-1f29-4ec8-a317-eaab3d18214e"
      },
      "outputs": [
        {
          "output_type": "execute_result",
          "data": {
            "text/plain": [
              "['.config',\n",
              " 'test.txt',\n",
              " 'cc.en.64.bin',\n",
              " 'val.txt',\n",
              " 'train.txt',\n",
              " '.ipynb_checkpoints',\n",
              " 'sample_data']"
            ]
          },
          "metadata": {},
          "execution_count": 23
        }
      ],
      "source": [
        "os.listdir('.')"
      ]
    },
    {
      "cell_type": "code",
      "execution_count": 24,
      "metadata": {
        "colab": {
          "base_uri": "https://localhost:8080/"
        },
        "id": "L4o-UY_ygswg",
        "outputId": "7a5a72d9-fbf7-464c-dbf3-463bec4c408b"
      },
      "outputs": [
        {
          "output_type": "stream",
          "name": "stdout",
          "text": [
            "66\n"
          ]
        }
      ],
      "source": [
        "def csvloader(path):\n",
        "    with open(path,\"r\") as f:\n",
        "        lines = f.readlines()\n",
        "    data = []\n",
        "    label = []\n",
        "    for line in lines:\n",
        "        data.append((line.split(\";\")[0]).split(\" \"))\n",
        "        label.append(line.split(\";\")[-1].replace(\"\\n\",\"\"))\n",
        "    return data, label\n",
        "\n",
        "train_data, train_label = csvloader(\"train.txt\")\n",
        "val_data, val_label = csvloader(\"val.txt\")\n",
        "test_data, test_label = csvloader(\"test.txt\")\n",
        "\n",
        "maxlen = 0\n",
        "for i in range(len(train_data)):\n",
        "    sentlen = len(train_data[i])\n",
        "    if sentlen>maxlen:\n",
        "        maxlen=sentlen\n",
        "\n",
        "print(maxlen)\n",
        ""
      ]
    },
    {
      "cell_type": "code",
      "execution_count": 25,
      "metadata": {
        "colab": {
          "base_uri": "https://localhost:8080/"
        },
        "id": "DKcDmjbpgswh",
        "outputId": "be80630b-90a4-42cb-c29c-c0fef378fe99"
      },
      "outputs": [
        {
          "output_type": "execute_result",
          "data": {
            "text/plain": [
              "(['i', 'didnt', 'feel', 'humiliated'], 'sadness')"
            ]
          },
          "metadata": {},
          "execution_count": 25
        }
      ],
      "source": [
        "train_data[0], train_label[0]"
      ]
    },
    {
      "cell_type": "code",
      "execution_count": 26,
      "metadata": {
        "colab": {
          "base_uri": "https://localhost:8080/"
        },
        "id": "QjlJkEkCgswh",
        "outputId": "d2f857eb-197c-45d0-8a28-3507035eb883"
      },
      "outputs": [
        {
          "output_type": "execute_result",
          "data": {
            "text/plain": [
              "[('sadness', 4666),\n",
              " ('anger', 2159),\n",
              " ('love', 1304),\n",
              " ('surprise', 572),\n",
              " ('fear', 1937),\n",
              " ('joy', 5362)]"
            ]
          },
          "metadata": {},
          "execution_count": 26
        }
      ],
      "source": [
        "counter = Counter(train_label)\n",
        "category_occurences = list(zip(counter.keys(), counter.values()))\n",
        "\n",
        "category_occurences"
      ]
    },
    {
      "cell_type": "code",
      "execution_count": 27,
      "metadata": {
        "colab": {
          "base_uri": "https://localhost:8080/"
        },
        "id": "lCAit9Ujgswh",
        "outputId": "96b554e5-23f2-4168-8ced-5b2aae6d8e00"
      },
      "outputs": [
        {
          "output_type": "execute_result",
          "data": {
            "text/plain": [
              "{'sadness': 0, 'anger': 1, 'love': 2, 'surprise': 3, 'fear': 4, 'joy': 5}"
            ]
          },
          "metadata": {},
          "execution_count": 27
        }
      ],
      "source": [
        "category_dict = {x[0]:i for i, x in enumerate(category_occurences)}\n",
        "category_dict"
      ]
    },
    {
      "cell_type": "code",
      "execution_count": 28,
      "metadata": {
        "colab": {
          "base_uri": "https://localhost:8080/"
        },
        "id": "fVoV_p5fgswh",
        "outputId": "df827bbc-b6bc-4ea0-e887-ce79b58d8785"
      },
      "outputs": [
        {
          "output_type": "execute_result",
          "data": {
            "text/plain": [
              "((16000,), (2000,), (2000,))"
            ]
          },
          "metadata": {},
          "execution_count": 28
        }
      ],
      "source": [
        "y_train = np.array([category_dict[x] for x in train_label])\n",
        "y_val = np.array([category_dict[x] for x in val_label])\n",
        "y_test = np.array([category_dict[x] for x in test_label])\n",
        "\n",
        "y_train.shape, y_val.shape, y_test.shape"
      ]
    },
    {
      "cell_type": "code",
      "execution_count": 29,
      "metadata": {
        "id": "1bBhKwR5gswi"
      },
      "outputs": [],
      "source": [
        "class_weight = {0: 1.0, 1: 2.0, 2: 3.0, 3: 8.0, 4: 2.3, 5: 1.0}"
      ]
    },
    {
      "cell_type": "code",
      "execution_count": 30,
      "metadata": {
        "id": "8xMcWaE4gswi"
      },
      "outputs": [],
      "source": [
        "vectors = load_facebook_model('./cc.en.64.bin').wv"
      ]
    },
    {
      "cell_type": "code",
      "execution_count": 31,
      "metadata": {
        "colab": {
          "base_uri": "https://localhost:8080/"
        },
        "id": "h3IKyyDUgswi",
        "outputId": "3b57ffe0-6c0a-4d5b-e362-ed4ca097160c"
      },
      "outputs": [
        {
          "output_type": "execute_result",
          "data": {
            "text/plain": [
              "[('king', 0.865199863910675),\n",
              " ('queen', 0.8356119394302368),\n",
              " ('prince', 0.7777831554412842),\n",
              " ('lord', 0.7745017409324646),\n",
              " ('slayer', 0.7558771967887878),\n",
              " ('duke', 0.7390422224998474),\n",
              " ('knight', 0.7389544248580933),\n",
              " ('conquerer', 0.7211664319038391),\n",
              " ('villan', 0.7169351577758789),\n",
              " ('tyrant', 0.7153100967407227)]"
            ]
          },
          "metadata": {},
          "execution_count": 31
        }
      ],
      "source": [
        "vec = vectors.get_vector('queen', norm=True) - vectors.get_vector('woman', norm=True) + vectors.get_vector('man', norm=True)\n",
        "vectors.most_similar(vec)"
      ]
    },
    {
      "cell_type": "code",
      "execution_count": 32,
      "metadata": {
        "colab": {
          "base_uri": "https://localhost:8080/"
        },
        "id": "b5jjA42cgswi",
        "outputId": "ecb2eba8-781d-4bad-eaf7-15788a210d52"
      },
      "outputs": [
        {
          "output_type": "execute_result",
          "data": {
            "text/plain": [
              "[('Barcelona', 0.8969185948371887),\n",
              " ('Madrid', 0.8903045654296875),\n",
              " ('Amsterdam', 0.8504062294960022),\n",
              " ('Marseille', 0.8501889705657959),\n",
              " ('Lisbon', 0.8479151725769043),\n",
              " ('Sitges', 0.8467515110969543),\n",
              " ('Aix-en-Provence', 0.8436455726623535),\n",
              " ('Palermo', 0.8431168794631958),\n",
              " ('Bilbao', 0.8421478271484375),\n",
              " ('Cascais', 0.8316007852554321)]"
            ]
          },
          "metadata": {},
          "execution_count": 32
        }
      ],
      "source": [
        "vectors.most_similar(positive=['Budapest', 'Spain'], negative='Hungary')"
      ]
    },
    {
      "cell_type": "code",
      "execution_count": 33,
      "metadata": {
        "id": "1lh5WeqEgswj"
      },
      "outputs": [],
      "source": [
        "def query_all_vectors(data: list, pad_to_length: int | None = None):\n",
        "  vecs = []\n",
        "  for datarow in data:\n",
        "    vecrow = []\n",
        "    for word in datarow:\n",
        "      vecrow.append(vectors.get_vector(word, norm=False))\n",
        "    if pad_to_length is not None:\n",
        "      diff = pad_to_length-len(vecrow)\n",
        "      if diff>0:\n",
        "        vecrow += [np.zeros_like(vecrow[-1])]*diff\n",
        "      elif diff < 0:\n",
        "        vecrow[-1] = vecrow[-1][:diff]\n",
        "    vecs.append(np.stack(vecrow))\n",
        "\n",
        "  return np.stack(vecs)\n",
        ""
      ]
    },
    {
      "cell_type": "code",
      "execution_count": 34,
      "metadata": {
        "colab": {
          "base_uri": "https://localhost:8080/"
        },
        "id": "v8XaEt2Agswj",
        "outputId": "b007aa10-7b6c-4273-951c-8b0318e3d701"
      },
      "outputs": [
        {
          "output_type": "stream",
          "name": "stderr",
          "text": [
            "WARNING:gensim.models.fasttext:could not extract any ngrams from 'zq', returning origin vector\n"
          ]
        },
        {
          "output_type": "execute_result",
          "data": {
            "text/plain": [
              "((16000, 70, 64), (2000, 70, 64), (2000, 70, 64))"
            ]
          },
          "metadata": {},
          "execution_count": 34
        }
      ],
      "source": [
        "padding = 70\n",
        "X_train = query_all_vectors(train_data, padding)\n",
        "X_val = query_all_vectors(val_data, padding)\n",
        "X_test = query_all_vectors(test_data, padding)\n",
        "\n",
        "X_train.shape, X_val.shape, X_test.shape"
      ]
    },
    {
      "cell_type": "code",
      "execution_count": 35,
      "metadata": {
        "id": "zOzda5Nbgswj"
      },
      "outputs": [],
      "source": [
        "class VectorDataset(Dataset):\n",
        "    def __init__(self, X, y):\n",
        "        self.X = torch.tensor(X, dtype=torch.float)\n",
        "        self.y = torch.tensor(y, dtype=torch.long)\n",
        "\n",
        "    def __len__(self):\n",
        "        return len(self.X)\n",
        "\n",
        "    def __getitem__(self, idx):\n",
        "        return self.X[idx], self.y[idx]"
      ]
    },
    {
      "cell_type": "code",
      "execution_count": 36,
      "metadata": {
        "id": "cU7QvpfAgswj"
      },
      "outputs": [],
      "source": [
        "train_dataset = VectorDataset(X_train, y_train)\n",
        "val_dataset = VectorDataset(X_val, y_val)\n",
        "test_dataset = VectorDataset(X_test, y_test)\n",
        "\n",
        "batch_size = 32\n",
        "train_loader = DataLoader(train_dataset, batch_size=batch_size, shuffle=True)\n",
        "val_loader = DataLoader(val_dataset, batch_size=batch_size, shuffle=False)\n",
        "test_loader = DataLoader(test_dataset, batch_size=batch_size, shuffle=False)"
      ]
    },
    {
      "cell_type": "code",
      "execution_count": 41,
      "metadata": {
        "id": "H881bE-mgswk"
      },
      "outputs": [],
      "source": [
        "class Model(nn.Module):\n",
        "    def __init__(self, in_dim: int, num_categories: int):\n",
        "        super().__init__()\n",
        "        self.lstm_1 = nn.LSTM(in_dim, 128, batch_first=True, bidirectional=True, dropout=0.1)\n",
        "        self.lstm_2 = nn.LSTM(256, 64, batch_first=True, bidirectional=True, dropout=0.1)\n",
        "        self.linear_1 = nn.Linear(128, 32)\n",
        "        self.linear_2 = nn.Linear(32, num_categories)\n",
        "\n",
        "    def forward(self, x: torch.Tensor) -> torch.Tensor:\n",
        "        # x: (batch, seq_len, in_dim)\n",
        "        x, _ = self.lstm_1(x)  # -> (batch, seq_len, 256)\n",
        "        x, _ = self.lstm_2(x)  # -> (batch, seq_len, 128)\n",
        "        x = torch.max(x, dim=1).values  # Global max pooling over seq_len\n",
        "        x = torch.tanh(self.linear_1(x))\n",
        "        x = self.linear_2(x)\n",
        "        return x"
      ]
    },
    {
      "cell_type": "code",
      "execution_count": 42,
      "metadata": {
        "colab": {
          "base_uri": "https://localhost:8080/"
        },
        "id": "J4lE0LCGgswk",
        "outputId": "200566a1-294e-48fa-e74b-6c07f9097330"
      },
      "outputs": [
        {
          "output_type": "stream",
          "name": "stderr",
          "text": [
            "/usr/local/lib/python3.11/dist-packages/torch/nn/modules/rnn.py:123: UserWarning: dropout option adds dropout after all but last recurrent layer, so non-zero dropout expects num_layers greater than 1, but got dropout=0.1 and num_layers=1\n",
            "  warnings.warn(\n"
          ]
        }
      ],
      "source": [
        "model = Model(X_train.shape[-1], len(category_dict))\n",
        "device = torch.device(\"cuda\" if torch.cuda.is_available() else \"cpu\")\n",
        "model = model.to(device)"
      ]
    },
    {
      "cell_type": "code",
      "execution_count": 43,
      "metadata": {
        "colab": {
          "base_uri": "https://localhost:8080/"
        },
        "id": "ZNi4UBQagswk",
        "outputId": "b4889f64-8dba-4993-f049-d2c68a3b93d2"
      },
      "outputs": [
        {
          "output_type": "execute_result",
          "data": {
            "text/plain": [
              "tensor([1.0000, 2.0000, 3.0000, 8.0000, 2.3000, 1.0000])"
            ]
          },
          "metadata": {},
          "execution_count": 43
        }
      ],
      "source": [
        "class_weight_pt = torch.tensor(list(class_weight.values()))\n",
        "class_weight_pt"
      ]
    },
    {
      "cell_type": "code",
      "execution_count": 44,
      "metadata": {
        "colab": {
          "base_uri": "https://localhost:8080/"
        },
        "id": "aHWEOJGWgswk",
        "outputId": "0664d073-d1a9-4663-8100-df4e3426ee15"
      },
      "outputs": [
        {
          "output_type": "stream",
          "name": "stdout",
          "text": [
            "Epoch 1/100, Train Loss: 1.7854, Train Acc: 0.3351, Val Loss: 1.7861, Val Acc: 0.3520\n",
            "Epoch 2/100, Train Loss: 1.7818, Train Acc: 0.3412, Val Loss: 1.7671, Val Acc: 0.3880\n",
            "Epoch 3/100, Train Loss: 1.7339, Train Acc: 0.4005, Val Loss: 1.7223, Val Acc: 0.4125\n",
            "Epoch 4/100, Train Loss: 1.6853, Train Acc: 0.4208, Val Loss: 1.6741, Val Acc: 0.4280\n",
            "Epoch 5/100, Train Loss: 1.6643, Train Acc: 0.4278, Val Loss: 1.6522, Val Acc: 0.4305\n",
            "Epoch 6/100, Train Loss: 1.6489, Train Acc: 0.4346, Val Loss: 1.6362, Val Acc: 0.4715\n",
            "Epoch 7/100, Train Loss: 1.6359, Train Acc: 0.4427, Val Loss: 1.6968, Val Acc: 0.4250\n",
            "Epoch 8/100, Train Loss: 1.6276, Train Acc: 0.4457, Val Loss: 1.6128, Val Acc: 0.4640\n",
            "Epoch 9/100, Train Loss: 1.6063, Train Acc: 0.4485, Val Loss: 1.5915, Val Acc: 0.4805\n",
            "Epoch 10/100, Train Loss: 1.5859, Train Acc: 0.4382, Val Loss: 1.5782, Val Acc: 0.4550\n",
            "Epoch 11/100, Train Loss: 1.5662, Train Acc: 0.4458, Val Loss: 1.5580, Val Acc: 0.4670\n",
            "Epoch 12/100, Train Loss: 1.5464, Train Acc: 0.4444, Val Loss: 1.5352, Val Acc: 0.4755\n",
            "Epoch 13/100, Train Loss: 1.5287, Train Acc: 0.4524, Val Loss: 1.5220, Val Acc: 0.4085\n",
            "Epoch 14/100, Train Loss: 1.5107, Train Acc: 0.4504, Val Loss: 1.5113, Val Acc: 0.4640\n",
            "Epoch 15/100, Train Loss: 1.4912, Train Acc: 0.4519, Val Loss: 1.4967, Val Acc: 0.4780\n",
            "Epoch 16/100, Train Loss: 1.4748, Train Acc: 0.4542, Val Loss: 1.4834, Val Acc: 0.5005\n",
            "Epoch 17/100, Train Loss: 1.4519, Train Acc: 0.4647, Val Loss: 1.4599, Val Acc: 0.4930\n",
            "Epoch 18/100, Train Loss: 1.4327, Train Acc: 0.4674, Val Loss: 1.4432, Val Acc: 0.4500\n",
            "Epoch 19/100, Train Loss: 1.4107, Train Acc: 0.4750, Val Loss: 1.4377, Val Acc: 0.4925\n",
            "Epoch 20/100, Train Loss: 1.3856, Train Acc: 0.4797, Val Loss: 1.4251, Val Acc: 0.5245\n",
            "Epoch 21/100, Train Loss: 1.3651, Train Acc: 0.4909, Val Loss: 1.4172, Val Acc: 0.4075\n",
            "Epoch 22/100, Train Loss: 1.3468, Train Acc: 0.4962, Val Loss: 1.3575, Val Acc: 0.4935\n",
            "Epoch 23/100, Train Loss: 1.3307, Train Acc: 0.5007, Val Loss: 1.3569, Val Acc: 0.4750\n",
            "Epoch 24/100, Train Loss: 1.3083, Train Acc: 0.5018, Val Loss: 1.3286, Val Acc: 0.5195\n",
            "Epoch 25/100, Train Loss: 1.2879, Train Acc: 0.5119, Val Loss: 1.3174, Val Acc: 0.5150\n",
            "Epoch 26/100, Train Loss: 1.2664, Train Acc: 0.5202, Val Loss: 1.3065, Val Acc: 0.5080\n",
            "Epoch 27/100, Train Loss: 1.2499, Train Acc: 0.5271, Val Loss: 1.3008, Val Acc: 0.5425\n",
            "Epoch 28/100, Train Loss: 1.2348, Train Acc: 0.5279, Val Loss: 1.2840, Val Acc: 0.5480\n",
            "Epoch 29/100, Train Loss: 1.2144, Train Acc: 0.5385, Val Loss: 1.2661, Val Acc: 0.5455\n",
            "Epoch 30/100, Train Loss: 1.1973, Train Acc: 0.5471, Val Loss: 1.2391, Val Acc: 0.5555\n",
            "Epoch 31/100, Train Loss: 1.1871, Train Acc: 0.5501, Val Loss: 1.2181, Val Acc: 0.5430\n",
            "Epoch 32/100, Train Loss: 1.1666, Train Acc: 0.5563, Val Loss: 1.2141, Val Acc: 0.5605\n",
            "Epoch 33/100, Train Loss: 1.1586, Train Acc: 0.5636, Val Loss: 1.2172, Val Acc: 0.5935\n",
            "Epoch 34/100, Train Loss: 1.1369, Train Acc: 0.5681, Val Loss: 1.2109, Val Acc: 0.5860\n",
            "Epoch 35/100, Train Loss: 1.1243, Train Acc: 0.5687, Val Loss: 1.2472, Val Acc: 0.5870\n",
            "Epoch 36/100, Train Loss: 1.1155, Train Acc: 0.5739, Val Loss: 1.1842, Val Acc: 0.6000\n",
            "Epoch 37/100, Train Loss: 1.1000, Train Acc: 0.5804, Val Loss: 1.1775, Val Acc: 0.5780\n",
            "Epoch 38/100, Train Loss: 1.0858, Train Acc: 0.5864, Val Loss: 1.1731, Val Acc: 0.5705\n",
            "Epoch 39/100, Train Loss: 1.0699, Train Acc: 0.5956, Val Loss: 1.1493, Val Acc: 0.5825\n",
            "Epoch 40/100, Train Loss: 1.0558, Train Acc: 0.5962, Val Loss: 1.1815, Val Acc: 0.6165\n",
            "Epoch 41/100, Train Loss: 1.0476, Train Acc: 0.5988, Val Loss: 1.1538, Val Acc: 0.6035\n",
            "Epoch 42/100, Train Loss: 1.0422, Train Acc: 0.6049, Val Loss: 1.1983, Val Acc: 0.5650\n",
            "Epoch 43/100, Train Loss: 1.0283, Train Acc: 0.6104, Val Loss: 1.1493, Val Acc: 0.5650\n",
            "Epoch 44/100, Train Loss: 1.0122, Train Acc: 0.6134, Val Loss: 1.1457, Val Acc: 0.5330\n",
            "Epoch 45/100, Train Loss: 1.0015, Train Acc: 0.6183, Val Loss: 1.1426, Val Acc: 0.5630\n",
            "Epoch 46/100, Train Loss: 0.9917, Train Acc: 0.6226, Val Loss: 1.1443, Val Acc: 0.5920\n",
            "Epoch 47/100, Train Loss: 0.9787, Train Acc: 0.6234, Val Loss: 1.1289, Val Acc: 0.5840\n",
            "Epoch 48/100, Train Loss: 0.9658, Train Acc: 0.6326, Val Loss: 1.1209, Val Acc: 0.5940\n",
            "Epoch 49/100, Train Loss: 0.9560, Train Acc: 0.6332, Val Loss: 1.1272, Val Acc: 0.6295\n",
            "Epoch 50/100, Train Loss: 0.9502, Train Acc: 0.6326, Val Loss: 1.1115, Val Acc: 0.6285\n",
            "Epoch 51/100, Train Loss: 0.9368, Train Acc: 0.6352, Val Loss: 1.1095, Val Acc: 0.6135\n",
            "Epoch 52/100, Train Loss: 0.9193, Train Acc: 0.6471, Val Loss: 1.1146, Val Acc: 0.6135\n",
            "Epoch 53/100, Train Loss: 0.9201, Train Acc: 0.6431, Val Loss: 1.0800, Val Acc: 0.5810\n",
            "Epoch 54/100, Train Loss: 0.9036, Train Acc: 0.6493, Val Loss: 1.0839, Val Acc: 0.6110\n",
            "Epoch 55/100, Train Loss: 0.8975, Train Acc: 0.6511, Val Loss: 1.1390, Val Acc: 0.6350\n",
            "Epoch 56/100, Train Loss: 0.8855, Train Acc: 0.6533, Val Loss: 1.1054, Val Acc: 0.6390\n",
            "Epoch 57/100, Train Loss: 0.8766, Train Acc: 0.6583, Val Loss: 1.0714, Val Acc: 0.6015\n",
            "Epoch 58/100, Train Loss: 0.8690, Train Acc: 0.6614, Val Loss: 1.1052, Val Acc: 0.6325\n",
            "Epoch 59/100, Train Loss: 0.8622, Train Acc: 0.6657, Val Loss: 1.0658, Val Acc: 0.6160\n",
            "Epoch 60/100, Train Loss: 0.8551, Train Acc: 0.6661, Val Loss: 1.0942, Val Acc: 0.6475\n",
            "Epoch 61/100, Train Loss: 0.8374, Train Acc: 0.6721, Val Loss: 1.0692, Val Acc: 0.6440\n",
            "Epoch 62/100, Train Loss: 0.8292, Train Acc: 0.6738, Val Loss: 1.0518, Val Acc: 0.6365\n",
            "Epoch 63/100, Train Loss: 0.8296, Train Acc: 0.6750, Val Loss: 1.0403, Val Acc: 0.6110\n",
            "Epoch 64/100, Train Loss: 0.8129, Train Acc: 0.6783, Val Loss: 1.0709, Val Acc: 0.6440\n",
            "Epoch 65/100, Train Loss: 0.8043, Train Acc: 0.6802, Val Loss: 1.0464, Val Acc: 0.6465\n",
            "Epoch 66/100, Train Loss: 0.7997, Train Acc: 0.6857, Val Loss: 1.0688, Val Acc: 0.6420\n",
            "Epoch 67/100, Train Loss: 0.7837, Train Acc: 0.6893, Val Loss: 1.0426, Val Acc: 0.6250\n",
            "Epoch 68/100, Train Loss: 0.7817, Train Acc: 0.6875, Val Loss: 1.0762, Val Acc: 0.6545\n",
            "Epoch 69/100, Train Loss: 0.7671, Train Acc: 0.6924, Val Loss: 1.0462, Val Acc: 0.6535\n",
            "Epoch 70/100, Train Loss: 0.7604, Train Acc: 0.6959, Val Loss: 1.0731, Val Acc: 0.6565\n",
            "Epoch 71/100, Train Loss: 0.7506, Train Acc: 0.7036, Val Loss: 1.0832, Val Acc: 0.6405\n",
            "Epoch 72/100, Train Loss: 0.7470, Train Acc: 0.6976, Val Loss: 1.0453, Val Acc: 0.6275\n",
            "Epoch 73/100, Train Loss: 0.7357, Train Acc: 0.7060, Val Loss: 1.0482, Val Acc: 0.6430\n",
            "Epoch 74/100, Train Loss: 0.7378, Train Acc: 0.7014, Val Loss: 1.0444, Val Acc: 0.6545\n",
            "Epoch 75/100, Train Loss: 0.7229, Train Acc: 0.7101, Val Loss: 1.0227, Val Acc: 0.6575\n",
            "Epoch 76/100, Train Loss: 0.7081, Train Acc: 0.7146, Val Loss: 1.0530, Val Acc: 0.6635\n",
            "Epoch 77/100, Train Loss: 0.7125, Train Acc: 0.7126, Val Loss: 1.0685, Val Acc: 0.6740\n",
            "Epoch 78/100, Train Loss: 0.6938, Train Acc: 0.7188, Val Loss: 1.0551, Val Acc: 0.6505\n",
            "Epoch 79/100, Train Loss: 0.6897, Train Acc: 0.7200, Val Loss: 1.1199, Val Acc: 0.6590\n",
            "Epoch 80/100, Train Loss: 0.6856, Train Acc: 0.7218, Val Loss: 1.1028, Val Acc: 0.6165\n",
            "Epoch 81/100, Train Loss: 0.6730, Train Acc: 0.7260, Val Loss: 1.0456, Val Acc: 0.6555\n",
            "Epoch 82/100, Train Loss: 0.6658, Train Acc: 0.7307, Val Loss: 1.0438, Val Acc: 0.6555\n",
            "Epoch 83/100, Train Loss: 0.6576, Train Acc: 0.7311, Val Loss: 1.0734, Val Acc: 0.6640\n",
            "Epoch 84/100, Train Loss: 0.6458, Train Acc: 0.7320, Val Loss: 1.0330, Val Acc: 0.6580\n",
            "Epoch 85/100, Train Loss: 0.6462, Train Acc: 0.7386, Val Loss: 1.0721, Val Acc: 0.6690\n",
            "Epoch 86/100, Train Loss: 0.6359, Train Acc: 0.7382, Val Loss: 1.0190, Val Acc: 0.6550\n",
            "Epoch 87/100, Train Loss: 0.6285, Train Acc: 0.7435, Val Loss: 1.1277, Val Acc: 0.6350\n",
            "Epoch 88/100, Train Loss: 0.6149, Train Acc: 0.7473, Val Loss: 1.0935, Val Acc: 0.6705\n",
            "Epoch 89/100, Train Loss: 0.6060, Train Acc: 0.7501, Val Loss: 1.0770, Val Acc: 0.6660\n",
            "Epoch 90/100, Train Loss: 0.6129, Train Acc: 0.7480, Val Loss: 1.0658, Val Acc: 0.6660\n",
            "Epoch 91/100, Train Loss: 0.5986, Train Acc: 0.7524, Val Loss: 1.0690, Val Acc: 0.6760\n",
            "Epoch 92/100, Train Loss: 0.5875, Train Acc: 0.7578, Val Loss: 1.0437, Val Acc: 0.6705\n",
            "Epoch 93/100, Train Loss: 0.5834, Train Acc: 0.7594, Val Loss: 1.0815, Val Acc: 0.6600\n",
            "Epoch 94/100, Train Loss: 0.5762, Train Acc: 0.7651, Val Loss: 1.0509, Val Acc: 0.6835\n",
            "Epoch 95/100, Train Loss: 0.5681, Train Acc: 0.7654, Val Loss: 1.0761, Val Acc: 0.6730\n",
            "Epoch 96/100, Train Loss: 0.5532, Train Acc: 0.7729, Val Loss: 1.1257, Val Acc: 0.6575\n",
            "Epoch 97/100, Train Loss: 0.5506, Train Acc: 0.7738, Val Loss: 1.0353, Val Acc: 0.6620\n",
            "Epoch 98/100, Train Loss: 0.5572, Train Acc: 0.7685, Val Loss: 1.0631, Val Acc: 0.6375\n",
            "Epoch 99/100, Train Loss: 0.5378, Train Acc: 0.7752, Val Loss: 1.1242, Val Acc: 0.6520\n",
            "Epoch 100/100, Train Loss: 0.5350, Train Acc: 0.7773, Val Loss: 1.1034, Val Acc: 0.6580\n"
          ]
        },
        {
          "output_type": "execute_result",
          "data": {
            "text/plain": [
              "<All keys matched successfully>"
            ]
          },
          "metadata": {},
          "execution_count": 44
        }
      ],
      "source": [
        "loss_fn = nn.CrossEntropyLoss(weight=class_weight_pt.to(device))\n",
        "epochs = 100\n",
        "learning_rate = 1e-4\n",
        "optimizer = optim.Adam(model.parameters(), lr=learning_rate)\n",
        "best_loss = np.inf\n",
        "patience = 20\n",
        "early_stop_counter = 0\n",
        "train_losses = []\n",
        "val_losses = []\n",
        "\n",
        "for epoch in range(epochs):\n",
        "    model.train()\n",
        "    epoch_train_loss = 0.0\n",
        "    train_preds = []\n",
        "    train_targets = []\n",
        "\n",
        "    for x, y in train_loader:\n",
        "        x = x.to(device)\n",
        "        y = y.to(device)\n",
        "\n",
        "        optimizer.zero_grad()\n",
        "        output = model(x)\n",
        "        loss = loss_fn(output, y)\n",
        "        loss.backward()\n",
        "        optimizer.step()\n",
        "\n",
        "        epoch_train_loss += loss.item()\n",
        "\n",
        "        preds = torch.argmax(output, dim=1)\n",
        "        train_preds.extend(preds.cpu().numpy())\n",
        "        train_targets.extend(y.cpu().numpy())\n",
        "\n",
        "    avg_train_loss = epoch_train_loss / len(train_loader)\n",
        "    train_acc = accuracy_score(train_targets, train_preds)\n",
        "    train_losses.append(avg_train_loss)\n",
        "\n",
        "    # Validation\n",
        "    model.eval()\n",
        "    epoch_val_loss = 0.0\n",
        "    val_preds = []\n",
        "    val_targets = []\n",
        "\n",
        "    with torch.inference_mode():\n",
        "        for x_val, y_val in val_loader:\n",
        "            x_val = x_val.to(device)\n",
        "            y_val = y_val.to(device)\n",
        "\n",
        "            output = model(x_val)\n",
        "            loss = loss_fn(output, y_val)\n",
        "            epoch_val_loss += loss.item()\n",
        "\n",
        "            preds = torch.argmax(output, dim=1)\n",
        "            val_preds.extend(preds.cpu().numpy())\n",
        "            val_targets.extend(y_val.cpu().numpy())\n",
        "\n",
        "    avg_val_loss = epoch_val_loss / len(val_loader)\n",
        "    val_acc = accuracy_score(val_targets, val_preds)\n",
        "    val_losses.append(avg_val_loss)\n",
        "\n",
        "    print(f\"Epoch {epoch+1}/{epochs}, \"\n",
        "          f\"Train Loss: {avg_train_loss:.4f}, Train Acc: {train_acc:.4f}, \"\n",
        "          f\"Val Loss: {avg_val_loss:.4f}, Val Acc: {val_acc:.4f}\")\n",
        "\n",
        "    if avg_val_loss < best_loss:\n",
        "        best_loss = avg_val_loss\n",
        "        best_model_state = model.state_dict()\n",
        "        early_stop_counter = 0\n",
        "    else:\n",
        "        early_stop_counter += 1\n",
        "        if early_stop_counter >= patience:\n",
        "            print(\"Early stopping triggered.\")\n",
        "            break\n",
        "\n",
        "model.load_state_dict(best_model_state)"
      ]
    },
    {
      "cell_type": "code",
      "source": [
        "plt.figure(figsize=(12, 6))\n",
        "plt.plot(train_losses, label='Train Loss')\n",
        "plt.plot(val_losses, label='Validation Loss')\n",
        "plt.xlabel('Epoch')\n",
        "plt.ylabel('Loss')\n",
        "plt.grid()\n",
        "plt.legend()\n",
        "plt.show()"
      ],
      "metadata": {
        "colab": {
          "base_uri": "https://localhost:8080/",
          "height": 542
        },
        "id": "uvL5-bVpiISV",
        "outputId": "5041dda6-bf3a-4322-a1b9-25cfe523a159"
      },
      "execution_count": 51,
      "outputs": [
        {
          "output_type": "display_data",
          "data": {
            "text/plain": [
              "<Figure size 1200x600 with 1 Axes>"
            ],
            "image/png": "[encoded data removed]"
          },
          "metadata": {}
        }
      ]
    },
    {
      "cell_type": "code",
      "source": [
        "model.eval()\n",
        "test_loss = 0.0\n",
        "test_preds = []\n",
        "test_targets = []\n",
        "\n",
        "with torch.inference_mode():\n",
        "    for x, y in test_loader:\n",
        "        x = x.to(device)\n",
        "        y = y.to(device)\n",
        "\n",
        "        output = model(x)\n",
        "        loss = loss_fn(output, y)\n",
        "        test_loss += loss.item()\n",
        "\n",
        "        preds = torch.argmax(output, dim=1)\n",
        "        test_preds.extend(preds.cpu().numpy())\n",
        "        test_targets.extend(y.cpu().numpy())\n",
        "\n",
        "avg_test_loss = test_loss / len(test_loader)\n",
        "test_acc = accuracy_score(test_targets, test_preds)\n",
        "test_preds = np.array(test_preds)\n",
        "test_targets = np.array(test_targets)\n",
        "print(f\"Test Loss: {avg_test_loss:.4f}, Test Accuracy: {test_acc:.4f}\")\n"
      ],
      "metadata": {
        "colab": {
          "base_uri": "https://localhost:8080/"
        },
        "id": "NiFI_RP0lz8G",
        "outputId": "08548eab-94cf-4c93-ed2e-01d012920031"
      },
      "execution_count": 55,
      "outputs": [
        {
          "output_type": "stream",
          "name": "stdout",
          "text": [
            "Test Loss: 1.0495, Test Accuracy: 0.6540\n"
          ]
        }
      ]
    },
    {
      "cell_type": "code",
      "source": [
        "plt.figure(0,figsize=(10,6))\n",
        "conf_matrix = confusion_matrix(test_targets, test_preds)\n",
        "sns.heatmap(conf_matrix, annot=True, fmt='d', cmap='Blues', xticklabels=list(category_dict.keys()), yticklabels=list(category_dict.keys()))\n",
        "plt.ylabel(\"Label\")\n",
        "plt.xlabel(\"Prediction\")\n",
        "plt.show()"
      ],
      "metadata": {
        "colab": {
          "base_uri": "https://localhost:8080/",
          "height": 544
        },
        "id": "91CZ_vhAmEs1",
        "outputId": "6d867cef-e52f-45a4-b2f5-49fd028dd39a"
      },
      "execution_count": 62,
      "outputs": [
        {
          "output_type": "display_data",
          "data": {
            "text/plain": [
              "<Figure size 1000x600 with 2 Axes>"
            ],
            "image/png": "[encoded data removed]"
          },
          "metadata": {}
        }
      ]
    },
    {
      "cell_type": "code",
      "source": [
        "def emoji_tester(model, text):\n",
        "    catDictInverse = {0:\"😓\",1:\"👿\",2:\"🥰\",3:\"😲\",4:\"😱\",5:\"😃\"}\n",
        "    net_input = query_all_vectors([text.lower().split(\" \")], pad_to_length=padding)\n",
        "    net_input = torch.tensor(net_input, dtype=torch.float).to(device)\n",
        "    net_output = model(net_input)\n",
        "    net_output = net_output.cpu().detach().numpy()\n",
        "    emoji = catDictInverse[np.argmax(net_output)]\n",
        "    return f'{text} {emoji}'\n",
        ""
      ],
      "metadata": {
        "id": "XJnyw5IPmpYy"
      },
      "execution_count": 84,
      "outputs": []
    },
    {
      "cell_type": "code",
      "source": [
        "emoji_tester(model, \"I LOVE NLP\")"
      ],
      "metadata": {
        "colab": {
          "base_uri": "https://localhost:8080/",
          "height": 35
        },
        "id": "AdbLoitTmwVX",
        "outputId": "584719f4-08e8-4adf-c4f9-1d9a778f58c7"
      },
      "execution_count": 90,
      "outputs": [
        {
          "output_type": "execute_result",
          "data": {
            "text/plain": [
              "'I LOVE NLP 😃'"
            ],
            "application/vnd.google.colaboratory.intrinsic+json": {
              "type": "string"
            }
          },
          "metadata": {},
          "execution_count": 90
        }
      ]
    },
    {
      "cell_type": "code",
      "source": [
        "emoji_tester(model, 'NLP is annoying')"
      ],
      "metadata": {
        "colab": {
          "base_uri": "https://localhost:8080/",
          "height": 35
        },
        "id": "m0n1ihoIn4cD",
        "outputId": "3688ac97-8199-47e8-edaf-7f3f4feb07db"
      },
      "execution_count": 103,
      "outputs": [
        {
          "output_type": "execute_result",
          "data": {
            "text/plain": [
              "'NLP is annoying 😱'"
            ],
            "application/vnd.google.colaboratory.intrinsic+json": {
              "type": "string"
            }
          },
          "metadata": {},
          "execution_count": 103
        }
      ]
    }
  ],
  "metadata": {
    "kernelspec": {
      "display_name": "Python 3",
      "name": "python3"
    },
    "language_info": {
      "codemirror_mode": {
        "name": "ipython",
        "version": 3
      },
      "file_extension": ".py",
      "mimetype": "text/x-python",
      "name": "python",
      "nbconvert_exporter": "python",
      "pygments_lexer": "ipython3",
      "version": "3.11.4"
    },
    "colab": {
      "provenance": [],
      "gpuType": "T4"
    },
    "accelerator": "GPU"
  },
  "nbformat": 4,
  "nbformat_minor": 0
}